{
 "cells": [
  {
   "cell_type": "code",
   "execution_count": 1,
   "id": "ab66112f",
   "metadata": {
    "_cell_guid": "b1076dfc-b9ad-4769-8c92-a6c4dae69d19",
    "_uuid": "8f2839f25d086af736a60e9eeb907d3b93b6e0e5",
    "execution": {
     "iopub.execute_input": "2021-07-17T06:02:03.657081Z",
     "iopub.status.busy": "2021-07-17T06:02:03.656442Z",
     "iopub.status.idle": "2021-07-17T06:02:04.591364Z",
     "shell.execute_reply": "2021-07-17T06:02:04.590140Z",
     "shell.execute_reply.started": "2021-07-17T05:58:30.491351Z"
    },
    "papermill": {
     "duration": 0.971313,
     "end_time": "2021-07-17T06:02:04.591630",
     "exception": false,
     "start_time": "2021-07-17T06:02:03.620317",
     "status": "completed"
    },
    "tags": []
   },
   "outputs": [
    {
     "name": "stdout",
     "output_type": "stream",
     "text": [
      "/kaggle/input/titanic/train.csv\n",
      "/kaggle/input/titanic/test.csv\n",
      "/kaggle/input/titanic/gender_submission.csv\n"
     ]
    }
   ],
   "source": [
    "# This Python 3 environment comes with many helpful analytics libraries installed\n",
    "# It is defined by the kaggle/python Docker image: https://github.com/kaggle/docker-python\n",
    "\n",
    "import numpy as np # linear algebra\n",
    "import pandas as pd # data processing, CSV file I/O (e.g. pd.read_csv)\n",
    "import seaborn as sns\n",
    "import matplotlib.pyplot as plt\n",
    "\n",
    "\n",
    "import os\n",
    "for dirname, _, filenames in os.walk('/kaggle/input'):\n",
    "    for filename in filenames:\n",
    "        print(os.path.join(dirname, filename))"
   ]
  },
  {
   "cell_type": "code",
   "execution_count": 2,
   "id": "ac3d569f",
   "metadata": {
    "execution": {
     "iopub.execute_input": "2021-07-17T06:02:04.649235Z",
     "iopub.status.busy": "2021-07-17T06:02:04.648616Z",
     "iopub.status.idle": "2021-07-17T06:02:04.699009Z",
     "shell.execute_reply": "2021-07-17T06:02:04.699466Z",
     "shell.execute_reply.started": "2021-07-17T05:58:30.501385Z"
    },
    "papermill": {
     "duration": 0.081369,
     "end_time": "2021-07-17T06:02:04.699683",
     "exception": false,
     "start_time": "2021-07-17T06:02:04.618314",
     "status": "completed"
    },
    "tags": []
   },
   "outputs": [],
   "source": [
    "# train, test set을 pandas로 불러오자\n",
    "train = pd.read_csv('/kaggle/input/titanic/train.csv', index_col = 0)\n",
    "test = pd.read_csv('/kaggle/input/titanic/test.csv', index_col = 0)\n",
    "gs = pd.read_csv('/kaggle/input/titanic/gender_submission.csv', index_col = 0)"
   ]
  },
  {
   "cell_type": "code",
   "execution_count": 3,
   "id": "2b0ab660",
   "metadata": {
    "execution": {
     "iopub.execute_input": "2021-07-17T06:02:04.762091Z",
     "iopub.status.busy": "2021-07-17T06:02:04.761097Z",
     "iopub.status.idle": "2021-07-17T06:02:04.776204Z",
     "shell.execute_reply": "2021-07-17T06:02:04.777042Z",
     "shell.execute_reply.started": "2021-07-17T05:58:30.525637Z"
    },
    "papermill": {
     "duration": 0.052147,
     "end_time": "2021-07-17T06:02:04.777302",
     "exception": false,
     "start_time": "2021-07-17T06:02:04.725155",
     "status": "completed"
    },
    "tags": []
   },
   "outputs": [
    {
     "name": "stdout",
     "output_type": "stream",
     "text": [
      "<class 'pandas.core.frame.DataFrame'>\n",
      "Int64Index: 891 entries, 1 to 891\n",
      "Data columns (total 11 columns):\n",
      " #   Column    Non-Null Count  Dtype  \n",
      "---  ------    --------------  -----  \n",
      " 0   Survived  891 non-null    int64  \n",
      " 1   Pclass    891 non-null    int64  \n",
      " 2   Name      891 non-null    object \n",
      " 3   Sex       891 non-null    object \n",
      " 4   Age       714 non-null    float64\n",
      " 5   SibSp     891 non-null    int64  \n",
      " 6   Parch     891 non-null    int64  \n",
      " 7   Ticket    891 non-null    object \n",
      " 8   Fare      891 non-null    float64\n",
      " 9   Cabin     204 non-null    object \n",
      " 10  Embarked  889 non-null    object \n",
      "dtypes: float64(2), int64(4), object(5)\n",
      "memory usage: 83.5+ KB\n"
     ]
    }
   ],
   "source": [
    "train.info()"
   ]
  },
  {
   "cell_type": "markdown",
   "id": "b1d49dce",
   "metadata": {
    "papermill": {
     "duration": 0.032697,
     "end_time": "2021-07-17T06:02:04.847659",
     "exception": false,
     "start_time": "2021-07-17T06:02:04.814962",
     "status": "completed"
    },
    "tags": []
   },
   "source": [
    "1. 생사 여부(생 / 사)\n",
    "2. 티켓 클래스(First, Second, Third)\n",
    "3. 성별(남 / 여)\n",
    "4. 나이\n",
    "5. 형제, 배우자등 \n",
    "6. 부모, 자식 \n",
    "7. 티켓 번호\n",
    "8. 운임 값\n",
    "9. 선실 번호\n",
    "10. 승차한 항만 C = 셰르부르옥트빌 / Q = 퀸스타운 / S = 사우스햄튼"
   ]
  },
  {
   "cell_type": "code",
   "execution_count": 4,
   "id": "58122721",
   "metadata": {
    "execution": {
     "iopub.execute_input": "2021-07-17T06:02:04.907953Z",
     "iopub.status.busy": "2021-07-17T06:02:04.907311Z",
     "iopub.status.idle": "2021-07-17T06:02:04.917478Z",
     "shell.execute_reply": "2021-07-17T06:02:04.918020Z",
     "shell.execute_reply.started": "2021-07-17T05:58:30.539901Z"
    },
    "papermill": {
     "duration": 0.043596,
     "end_time": "2021-07-17T06:02:04.918195",
     "exception": false,
     "start_time": "2021-07-17T06:02:04.874599",
     "status": "completed"
    },
    "tags": []
   },
   "outputs": [
    {
     "name": "stdout",
     "output_type": "stream",
     "text": [
      "<class 'pandas.core.frame.DataFrame'>\n",
      "Int64Index: 418 entries, 892 to 1309\n",
      "Data columns (total 10 columns):\n",
      " #   Column    Non-Null Count  Dtype  \n",
      "---  ------    --------------  -----  \n",
      " 0   Pclass    418 non-null    int64  \n",
      " 1   Name      418 non-null    object \n",
      " 2   Sex       418 non-null    object \n",
      " 3   Age       332 non-null    float64\n",
      " 4   SibSp     418 non-null    int64  \n",
      " 5   Parch     418 non-null    int64  \n",
      " 6   Ticket    418 non-null    object \n",
      " 7   Fare      417 non-null    float64\n",
      " 8   Cabin     91 non-null     object \n",
      " 9   Embarked  418 non-null    object \n",
      "dtypes: float64(2), int64(3), object(5)\n",
      "memory usage: 35.9+ KB\n"
     ]
    }
   ],
   "source": [
    "test.info()"
   ]
  },
  {
   "cell_type": "markdown",
   "id": "791fdd75",
   "metadata": {
    "papermill": {
     "duration": 0.026079,
     "end_time": "2021-07-17T06:02:04.971476",
     "exception": false,
     "start_time": "2021-07-17T06:02:04.945397",
     "status": "completed"
    },
    "tags": []
   },
   "source": [
    "train과 test의 정보를 살펴봄으로써 Target Label이 'Survived'인 것을 확인 할 수 있었다."
   ]
  },
  {
   "cell_type": "code",
   "execution_count": 5,
   "id": "040eb090",
   "metadata": {
    "execution": {
     "iopub.execute_input": "2021-07-17T06:02:05.026737Z",
     "iopub.status.busy": "2021-07-17T06:02:05.026097Z",
     "iopub.status.idle": "2021-07-17T06:02:05.034172Z",
     "shell.execute_reply": "2021-07-17T06:02:05.034645Z",
     "shell.execute_reply.started": "2021-07-17T05:58:30.566564Z"
    },
    "papermill": {
     "duration": 0.037112,
     "end_time": "2021-07-17T06:02:05.034828",
     "exception": false,
     "start_time": "2021-07-17T06:02:04.997716",
     "status": "completed"
    },
    "tags": []
   },
   "outputs": [
    {
     "data": {
      "text/plain": [
       "True"
      ]
     },
     "execution_count": 5,
     "metadata": {},
     "output_type": "execute_result"
    }
   ],
   "source": [
    "# 1. Data Quality checks\n",
    "# 1. 결측값 확인\n",
    "train.isnull().any().any()"
   ]
  },
  {
   "cell_type": "markdown",
   "id": "85c35ec3",
   "metadata": {
    "papermill": {
     "duration": 0.026887,
     "end_time": "2021-07-17T06:02:05.088793",
     "exception": false,
     "start_time": "2021-07-17T06:02:05.061906",
     "status": "completed"
    },
    "tags": []
   },
   "source": [
    "결측값 있는지 확인 해주는 과정\n",
    "\n",
    "True일 경우 결측값이 존재한다는 것이므로 missingno library 사용해서 시각화해서 관찰해보자"
   ]
  },
  {
   "cell_type": "code",
   "execution_count": 6,
   "id": "23508be4",
   "metadata": {
    "execution": {
     "iopub.execute_input": "2021-07-17T06:02:05.144552Z",
     "iopub.status.busy": "2021-07-17T06:02:05.143938Z",
     "iopub.status.idle": "2021-07-17T06:02:05.509015Z",
     "shell.execute_reply": "2021-07-17T06:02:05.509932Z",
     "shell.execute_reply.started": "2021-07-17T05:58:30.580495Z"
    },
    "papermill": {
     "duration": 0.394968,
     "end_time": "2021-07-17T06:02:05.510119",
     "exception": false,
     "start_time": "2021-07-17T06:02:05.115151",
     "status": "completed"
    },
    "tags": []
   },
   "outputs": [
    {
     "data": {
      "text/plain": [
       "<AxesSubplot:>"
      ]
     },
     "execution_count": 6,
     "metadata": {},
     "output_type": "execute_result"
    },
    {
     "data": {
      "image/png": "[encoded data removed]",
      "text/plain": [
       "<Figure size 1080x576 with 2 Axes>"
      ]
     },
     "metadata": {
      "needs_background": "light"
     },
     "output_type": "display_data"
    }
   ],
   "source": [
    "import missingno as msno\n",
    "msno.matrix(df = train, figsize=(15, 8))"
   ]
  },
  {
   "cell_type": "markdown",
   "id": "9ac0cb3f",
   "metadata": {
    "papermill": {
     "duration": 0.027522,
     "end_time": "2021-07-17T06:02:05.566543",
     "exception": false,
     "start_time": "2021-07-17T06:02:05.539021",
     "status": "completed"
    },
    "tags": []
   },
   "source": [
    "Age에서는 적당히 채울 수 있는 결측값이 발견되었고\n",
    "\n",
    "Cabin에서는 수 많은 결측값들이 발견되었다.\n",
    "\n",
    "Embarked에서는 그래프에서는 잘 보이지 않지만 2개의 결측값이 발견되었다.\n",
    "\n",
    "- Embarked는 충분히 대체 가능하다고 생각\n",
    "- Age는 살릴 수 있는 Column이라는 생각\n",
    "- Cabin은 솔직히 불가능이라고 생각이 들었다."
   ]
  },
  {
   "cell_type": "code",
   "execution_count": 7,
   "id": "2d5af535",
   "metadata": {
    "execution": {
     "iopub.execute_input": "2021-07-17T06:02:05.628699Z",
     "iopub.status.busy": "2021-07-17T06:02:05.627765Z",
     "iopub.status.idle": "2021-07-17T06:02:05.927012Z",
     "shell.execute_reply": "2021-07-17T06:02:05.927435Z",
     "shell.execute_reply.started": "2021-07-17T05:58:30.995690Z"
    },
    "papermill": {
     "duration": 0.333315,
     "end_time": "2021-07-17T06:02:05.927641",
     "exception": false,
     "start_time": "2021-07-17T06:02:05.594326",
     "status": "completed"
    },
    "tags": []
   },
   "outputs": [
    {
     "data": {
      "text/plain": [
       "<AxesSubplot:>"
      ]
     },
     "execution_count": 7,
     "metadata": {},
     "output_type": "execute_result"
    },
    {
     "data": {
      "image/png": "[encoded data removed]",
      "text/plain": [
       "<Figure size 1080x576 with 2 Axes>"
      ]
     },
     "metadata": {
      "needs_background": "light"
     },
     "output_type": "display_data"
    }
   ],
   "source": [
    "import missingno as msno\n",
    "msno.matrix(df = test, figsize=(15, 8))"
   ]
  },
  {
   "cell_type": "code",
   "execution_count": 8,
   "id": "f8df1ed1",
   "metadata": {
    "execution": {
     "iopub.execute_input": "2021-07-17T06:02:05.990872Z",
     "iopub.status.busy": "2021-07-17T06:02:05.989927Z",
     "iopub.status.idle": "2021-07-17T06:02:06.255593Z",
     "shell.execute_reply": "2021-07-17T06:02:06.256076Z",
     "shell.execute_reply.started": "2021-07-17T05:58:31.405283Z"
    },
    "papermill": {
     "duration": 0.298464,
     "end_time": "2021-07-17T06:02:06.256242",
     "exception": false,
     "start_time": "2021-07-17T06:02:05.957778",
     "status": "completed"
    },
    "tags": []
   },
   "outputs": [
    {
     "data": {
      "image/png": "[encoded data removed]",
      "text/plain": [
       "<Figure size 1296x576 with 2 Axes>"
      ]
     },
     "metadata": {
      "needs_background": "light"
     },
     "output_type": "display_data"
    }
   ],
   "source": [
    "# 2. Target Variable Inspection\n",
    "# 2. Target Variable에 대한 분석\n",
    "import warnings\n",
    "warnings.filterwarnings('ignore')\n",
    "\n",
    "f, ax = plt.subplots(1, 2, figsize=(18, 8))\n",
    "\n",
    "train['Survived'].value_counts().plot.pie(explode=[0, 0.1], labels = ['Dead', 'Alive'], autopct='%1.1f%%', ax=ax[0])\n",
    "ax[0].set_title('Pie plot - Survived')\n",
    "ax[0].set_ylabel('')\n",
    "\n",
    "sns.countplot('Survived', data=train, ax=ax[1])\n",
    "ax[1].set_title('Count plot - Survived')\n",
    "\n",
    "plt.show()"
   ]
  },
  {
   "cell_type": "markdown",
   "id": "ac962fc8",
   "metadata": {
    "papermill": {
     "duration": 0.030702,
     "end_time": "2021-07-17T06:02:06.317824",
     "exception": false,
     "start_time": "2021-07-17T06:02:06.287122",
     "status": "completed"
    },
    "tags": []
   },
   "source": [
    "비율을 보기위한 pieplot과 실제 수를 보기위한 countplot을 그려보았다.\n",
    "\n",
    "61.6%의 사람이 죽었고 38.4%의 사람이 살아남은 것을 알 수 있으며\n",
    "\n",
    "그 수는 500명이 넘는 사람이 죽었고 300명이 넘는 사람이 살아남은 것을 알 수 있다.\n",
    "\n",
    "※ 나름 classification이 고르게 분포된 데이터의 형태이다."
   ]
  },
  {
   "cell_type": "code",
   "execution_count": 9,
   "id": "97d00682",
   "metadata": {
    "execution": {
     "iopub.execute_input": "2021-07-17T06:02:06.382965Z",
     "iopub.status.busy": "2021-07-17T06:02:06.382053Z",
     "iopub.status.idle": "2021-07-17T06:02:06.389136Z",
     "shell.execute_reply": "2021-07-17T06:02:06.388668Z",
     "shell.execute_reply.started": "2021-07-17T05:58:31.602620Z"
    },
    "papermill": {
     "duration": 0.040602,
     "end_time": "2021-07-17T06:02:06.389274",
     "exception": false,
     "start_time": "2021-07-17T06:02:06.348672",
     "status": "completed"
    },
    "tags": []
   },
   "outputs": [
    {
     "data": {
      "text/plain": [
       "Counter({dtype('int64'): 4, dtype('O'): 5, dtype('float64'): 2})"
      ]
     },
     "execution_count": 9,
     "metadata": {},
     "output_type": "execute_result"
    }
   ],
   "source": [
    "# 3. Datatype Check\n",
    "from collections import Counter\n",
    "Counter(train.dtypes.values)"
   ]
  },
  {
   "cell_type": "markdown",
   "id": "62e4a30a",
   "metadata": {
    "papermill": {
     "duration": 0.030907,
     "end_time": "2021-07-17T06:02:06.451223",
     "exception": false,
     "start_time": "2021-07-17T06:02:06.420316",
     "status": "completed"
    },
    "tags": []
   },
   "source": [
    "float64 형태의 데이터가 2 -> train_float로 들어갈 예정\n",
    "\n",
    "int64 형태의 데이터가 4 -> train_int로 들어갈 예정\n",
    "\n",
    "Object 형태의 데이터가 5 -> train_O로 들어갈 예정"
   ]
  },
  {
   "cell_type": "code",
   "execution_count": 10,
   "id": "0a5808bb",
   "metadata": {
    "execution": {
     "iopub.execute_input": "2021-07-17T06:02:06.523571Z",
     "iopub.status.busy": "2021-07-17T06:02:06.522896Z",
     "iopub.status.idle": "2021-07-17T06:02:06.526140Z",
     "shell.execute_reply": "2021-07-17T06:02:06.525555Z",
     "shell.execute_reply.started": "2021-07-17T05:58:31.611920Z"
    },
    "papermill": {
     "duration": 0.043869,
     "end_time": "2021-07-17T06:02:06.526276",
     "exception": false,
     "start_time": "2021-07-17T06:02:06.482407",
     "status": "completed"
    },
    "tags": []
   },
   "outputs": [],
   "source": [
    "train_float = train.select_dtypes(include=['float64'])\n",
    "train_int = train.select_dtypes(include=['int64'])\n",
    "train_O = train.select_dtypes(include=['O'])"
   ]
  },
  {
   "cell_type": "code",
   "execution_count": 11,
   "id": "afa7af3d",
   "metadata": {
    "execution": {
     "iopub.execute_input": "2021-07-17T06:02:06.591629Z",
     "iopub.status.busy": "2021-07-17T06:02:06.591012Z",
     "iopub.status.idle": "2021-07-17T06:02:07.430251Z",
     "shell.execute_reply": "2021-07-17T06:02:07.430694Z",
     "shell.execute_reply.started": "2021-07-17T05:58:31.628495Z"
    },
    "papermill": {
     "duration": 0.873443,
     "end_time": "2021-07-17T06:02:07.430867",
     "exception": false,
     "start_time": "2021-07-17T06:02:06.557424",
     "status": "completed"
    },
    "tags": []
   },
   "outputs": [
    {
     "data": {
      "image/png": "[encoded data removed]",
      "text/plain": [
       "<Figure size 1440x1080 with 2 Axes>"
      ]
     },
     "metadata": {
      "needs_background": "light"
     },
     "output_type": "display_data"
    }
   ],
   "source": [
    "# 4.0 Float type Columns Inspection\n",
    "# 4.0 Float type Column별 고찰\n",
    "\n",
    "f, ax = plt.subplots(1, 2, figsize = (20, 15))\n",
    "g1 = sns.distplot(train['Fare'], label='Skewness : {:.2f}'.format(train['Fare'].skew()), ax=ax[0])\n",
    "g2 = sns.distplot(train['Age'], label='Skewness : {:.2f}'.format(train['Age'].skew()), ax=ax[1])\n",
    "\n",
    "ax[0].set_title('distplot of Fare')\n",
    "ax[1].set_title('distplot of Age')\n",
    "\n",
    "g1 = g1.legend(loc = 'best')\n",
    "g2 = g2.legend(loc = 'best')"
   ]
  },
  {
   "cell_type": "markdown",
   "id": "e6743596",
   "metadata": {
    "papermill": {
     "duration": 0.032677,
     "end_time": "2021-07-17T06:02:07.496970",
     "exception": false,
     "start_time": "2021-07-17T06:02:07.464293",
     "status": "completed"
    },
    "tags": []
   },
   "source": [
    "Fare의 경우 왜도가 4.79로 Long-Tailed_Data의 형태를 지니고 있다.\n",
    "\n",
    "-> 왜도가 심한 데이터를 학습 시킬 경우 예상치 못한 안타까운 상황이 일어날 수 있으니 Fare에 대해서는 log화 진행할 예정\n",
    "\n",
    "Age의 경우 왜도가 0.39로 균형적인 분포를 이루고 있다.\n",
    "\n",
    "-> 일단은 그냥 내비두겠다."
   ]
  },
  {
   "cell_type": "code",
   "execution_count": 12,
   "id": "3da45d09",
   "metadata": {
    "execution": {
     "iopub.execute_input": "2021-07-17T06:02:07.566414Z",
     "iopub.status.busy": "2021-07-17T06:02:07.565797Z",
     "iopub.status.idle": "2021-07-17T06:02:07.792887Z",
     "shell.execute_reply": "2021-07-17T06:02:07.792149Z",
     "shell.execute_reply.started": "2021-07-17T05:58:32.213211Z"
    },
    "papermill": {
     "duration": 0.263129,
     "end_time": "2021-07-17T06:02:07.793029",
     "exception": false,
     "start_time": "2021-07-17T06:02:07.529900",
     "status": "completed"
    },
    "tags": []
   },
   "outputs": [
    {
     "data": {
      "text/plain": [
       "<AxesSubplot:>"
      ]
     },
     "execution_count": 12,
     "metadata": {},
     "output_type": "execute_result"
    },
    {
     "data": {
      "image/png": "[encoded data removed]",
      "text/plain": [
       "<Figure size 720x720 with 2 Axes>"
      ]
     },
     "metadata": {
      "needs_background": "light"
     },
     "output_type": "display_data"
    }
   ],
   "source": [
    "# ★★★★★★\n",
    "# 4. Correlation plots\n",
    "# 4.1 float type data 상관관계 알아보기\n",
    "import plotly.graph_objs as go\n",
    "import plotly.offline as py\n",
    "\n",
    "colormap = plt.cm.magma\n",
    "plt.figure(figsize=(10,10))\n",
    "ax[0].set_title('Pearson correlation of continous features')\n",
    "sns.heatmap(train_float.corr(), linewidth=0.1, vmax=1.0, square=True, cmap=colormap, linecolor='white', annot=True)"
   ]
  },
  {
   "cell_type": "markdown",
   "id": "bc8412f3",
   "metadata": {
    "papermill": {
     "duration": 0.033659,
     "end_time": "2021-07-17T06:02:07.860580",
     "exception": false,
     "start_time": "2021-07-17T06:02:07.826921",
     "status": "completed"
    },
    "tags": []
   },
   "source": [
    "Age, Fare간 상관관계는 거의 없는 것으로 밝혀졌다.\n",
    "\n",
    "물론 Age에 결측값들이 다수 있지만 유의미한 지표라고 생각한다."
   ]
  },
  {
   "cell_type": "code",
   "execution_count": 13,
   "id": "2489a5cf",
   "metadata": {
    "execution": {
     "iopub.execute_input": "2021-07-17T06:02:07.940652Z",
     "iopub.status.busy": "2021-07-17T06:02:07.939810Z",
     "iopub.status.idle": "2021-07-17T06:02:07.943910Z",
     "shell.execute_reply": "2021-07-17T06:02:07.943112Z",
     "shell.execute_reply.started": "2021-07-17T05:58:32.468345Z"
    },
    "papermill": {
     "duration": 0.049764,
     "end_time": "2021-07-17T06:02:07.944094",
     "exception": false,
     "start_time": "2021-07-17T06:02:07.894330",
     "status": "completed"
    },
    "tags": []
   },
   "outputs": [
    {
     "name": "stdout",
     "output_type": "stream",
     "text": [
      "<class 'pandas.core.frame.DataFrame'>\n",
      "Int64Index: 891 entries, 1 to 891\n",
      "Data columns (total 5 columns):\n",
      " #   Column    Non-Null Count  Dtype \n",
      "---  ------    --------------  ----- \n",
      " 0   Name      891 non-null    object\n",
      " 1   Sex       891 non-null    object\n",
      " 2   Ticket    891 non-null    object\n",
      " 3   Cabin     204 non-null    object\n",
      " 4   Embarked  889 non-null    object\n",
      "dtypes: object(5)\n",
      "memory usage: 74.1+ KB\n"
     ]
    }
   ],
   "source": [
    "train_O.info()"
   ]
  },
  {
   "cell_type": "code",
   "execution_count": 14,
   "id": "f39b7cd5",
   "metadata": {
    "execution": {
     "iopub.execute_input": "2021-07-17T06:02:08.039478Z",
     "iopub.status.busy": "2021-07-17T06:02:08.035154Z",
     "iopub.status.idle": "2021-07-17T06:02:08.394730Z",
     "shell.execute_reply": "2021-07-17T06:02:08.394173Z",
     "shell.execute_reply.started": "2021-07-17T05:58:32.483455Z"
    },
    "papermill": {
     "duration": 0.4152,
     "end_time": "2021-07-17T06:02:08.394876",
     "exception": false,
     "start_time": "2021-07-17T06:02:07.979676",
     "status": "completed"
    },
    "tags": []
   },
   "outputs": [
    {
     "data": {
      "image/png": "[encoded data removed]",
      "text/plain": [
       "<Figure size 1440x720 with 4 Axes>"
      ]
     },
     "metadata": {
      "needs_background": "light"
     },
     "output_type": "display_data"
    }
   ],
   "source": [
    "f, ax = plt.subplots(2, 2, figsize=(20, 10))\n",
    "\n",
    "train['Sex'].value_counts().plot.pie(explode=[0, 0.1], labels = ['Male', 'Female'], autopct='%1.1f%%', ax=ax[0][0])\n",
    "ax[0][0].set_title('Pie plot - Sex')\n",
    "ax[0][0].set_ylabel('')\n",
    "\n",
    "train['Embarked'].value_counts().plot.pie(labels = ['S', 'C', 'Q'], autopct ='%1.1f%%', ax=ax[0][1])\n",
    "ax[0][1].set_title('Pie plot - Embarked')\n",
    "ax[0][1].set_ylabel('')\n",
    "\n",
    "sns.countplot('Sex', data=train, ax=ax[1][0])\n",
    "ax[1][0].set_title('Count plot - Sex')\n",
    "\n",
    "sns.countplot('Embarked', data=train, ax=ax[1][1])\n",
    "ax[1][1].set_title('Count plot - Embarked')\n",
    "plt.show()"
   ]
  },
  {
   "cell_type": "markdown",
   "id": "17e1e7d1",
   "metadata": {
    "papermill": {
     "duration": 0.034741,
     "end_time": "2021-07-17T06:02:08.465191",
     "exception": false,
     "start_time": "2021-07-17T06:02:08.430450",
     "status": "completed"
    },
    "tags": []
   },
   "source": [
    "Sex의 경우 Male, Female로만 나뉘는 bin형태의 데이터\n",
    "\n",
    "-> Male을 0 / Female을 1로 바꿔주자\n",
    "\n",
    "Embarked의 경우 S,C,Q로만 나뉘는 Pclass와 같은 categorical 형태이다. 그래서 Embarked의 S, C, Q를 1, 2, 3으로 바꾸고 integer type으로 변환해서\n",
    "\n",
    "정수형 타입들간의 상관관계를 살펴보고자 한다.\n",
    "\n",
    "그 전에 Embarked의 유일한 결측값을 가장 최빈값인 S로 대체하고 나서 상관관계를 보도록 하겠다."
   ]
  },
  {
   "cell_type": "code",
   "execution_count": 15,
   "id": "5baa6df8",
   "metadata": {
    "execution": {
     "iopub.execute_input": "2021-07-17T06:02:08.561864Z",
     "iopub.status.busy": "2021-07-17T06:02:08.557156Z",
     "iopub.status.idle": "2021-07-17T06:02:08.564534Z",
     "shell.execute_reply": "2021-07-17T06:02:08.563956Z",
     "shell.execute_reply.started": "2021-07-17T05:58:32.850239Z"
    },
    "papermill": {
     "duration": 0.064446,
     "end_time": "2021-07-17T06:02:08.564669",
     "exception": false,
     "start_time": "2021-07-17T06:02:08.500223",
     "status": "completed"
    },
    "tags": []
   },
   "outputs": [],
   "source": [
    "train['Embarked'].fillna('S' ,inplace=True)\n",
    "train['Embarked'].replace('S', 1, inplace=True)\n",
    "train['Embarked'].replace('C', 2, inplace=True)\n",
    "train['Embarked'].replace('Q', 3, inplace=True)\n",
    "train['Embarked'] = train['Embarked'].astype(int)\n",
    "\n",
    "train['Sex'].replace('male', 1, inplace=True)\n",
    "train['Sex'].replace('female', 2, inplace=True)\n",
    "\n",
    "train['Family'] = train['Parch'] + train['SibSp'] + 1\n",
    "train['Solo'] = (train['Family'] == 1)\n",
    "\n",
    "train_bin = pd.DataFrame()\n",
    "train_bin['Sex'] = train['Sex']\n",
    "train_bin['Solo'] = train['Solo']\n",
    "\n",
    "test['Embarked'].replace('S', 1, inplace=True)\n",
    "test['Embarked'].replace('C', 2, inplace=True)\n",
    "test['Embarked'].replace('Q', 3, inplace=True)\n",
    "test['Embarked'] = test['Embarked'].astype(int)\n",
    "\n",
    "test['Sex'].replace('male', 1, inplace=True)\n",
    "test['Sex'].replace('female', 2, inplace=True)\n",
    "\n",
    "test['Family'] = test['Parch'] + test['SibSp'] + 1\n",
    "test['Solo'] = (test['Family'] == 1)"
   ]
  },
  {
   "cell_type": "markdown",
   "id": "d9d30cce",
   "metadata": {
    "papermill": {
     "duration": 0.034755,
     "end_time": "2021-07-17T06:02:08.634675",
     "exception": false,
     "start_time": "2021-07-17T06:02:08.599920",
     "status": "completed"
    },
    "tags": []
   },
   "source": [
    "Parch와 SibSp는 동행자 즉 가족들을 의미하기 때문에 다 더하면 한 그룹이 완성이 된다.\n",
    "\n",
    "Family와 Survived는 얼마나 상관관계를 지니고 있는지 궁금해서 만들어봤다.\n",
    "\n",
    "Sex와 Embarked는 Otype에서 탈출하였으니 train_O에서 drop시켜주고 binary 종류의 데이터만 담아두는 train_bin을 만들어두자\n",
    "\n",
    "binary_bin안에는 우선 Sex, Solo가 들어갈 예정"
   ]
  },
  {
   "cell_type": "code",
   "execution_count": 16,
   "id": "d18cdcf7",
   "metadata": {
    "execution": {
     "iopub.execute_input": "2021-07-17T06:02:08.726252Z",
     "iopub.status.busy": "2021-07-17T06:02:08.725250Z",
     "iopub.status.idle": "2021-07-17T06:02:08.809445Z",
     "shell.execute_reply": "2021-07-17T06:02:08.808907Z",
     "shell.execute_reply.started": "2021-07-17T05:58:32.875124Z"
    },
    "papermill": {
     "duration": 0.139534,
     "end_time": "2021-07-17T06:02:08.809595",
     "exception": false,
     "start_time": "2021-07-17T06:02:08.670061",
     "status": "completed"
    },
    "tags": []
   },
   "outputs": [
    {
     "data": {
      "text/plain": [
       "Text(0, 0.5, '')"
      ]
     },
     "execution_count": 16,
     "metadata": {},
     "output_type": "execute_result"
    },
    {
     "data": {
      "image/png": "[encoded data removed]",
      "text/plain": [
       "<Figure size 1080x504 with 1 Axes>"
      ]
     },
     "metadata": {},
     "output_type": "display_data"
    }
   ],
   "source": [
    "f, ax = plt.subplots(1, 1, figsize=(15, 7))\n",
    "\n",
    "train['Solo'].value_counts().plot.pie(explode=[0, 0.1], labels = ['Solo', 'N_Solo'], autopct='%1.1f%%', ax=ax)\n",
    "ax.set_title('Pie plot - Solo')\n",
    "ax.set_ylabel('')\n"
   ]
  },
  {
   "cell_type": "code",
   "execution_count": 17,
   "id": "bddd1028",
   "metadata": {
    "execution": {
     "iopub.execute_input": "2021-07-17T06:02:08.901777Z",
     "iopub.status.busy": "2021-07-17T06:02:08.901114Z",
     "iopub.status.idle": "2021-07-17T06:02:09.062462Z",
     "shell.execute_reply": "2021-07-17T06:02:09.061840Z",
     "shell.execute_reply.started": "2021-07-17T05:58:32.976331Z"
    },
    "papermill": {
     "duration": 0.216796,
     "end_time": "2021-07-17T06:02:09.062623",
     "exception": false,
     "start_time": "2021-07-17T06:02:08.845827",
     "status": "completed"
    },
    "tags": []
   },
   "outputs": [
    {
     "data": {
      "text/plain": [
       "Text(0.5, 1.0, 'Count plot - Solo')"
      ]
     },
     "execution_count": 17,
     "metadata": {},
     "output_type": "execute_result"
    },
    {
     "data": {
      "image/png": "[encoded data removed]",
      "text/plain": [
       "<Figure size 1080x576 with 1 Axes>"
      ]
     },
     "metadata": {
      "needs_background": "light"
     },
     "output_type": "display_data"
    }
   ],
   "source": [
    "f, ax = plt.subplots(1, 1, figsize=(15, 8))\n",
    "sns.countplot('Solo', data=train, hue = 'Survived', ax=ax)\n",
    "ax.set_title('Count plot - Solo')"
   ]
  },
  {
   "cell_type": "markdown",
   "id": "e53060c9",
   "metadata": {
    "papermill": {
     "duration": 0.03668,
     "end_time": "2021-07-17T06:02:09.136935",
     "exception": false,
     "start_time": "2021-07-17T06:02:09.100255",
     "status": "completed"
    },
    "tags": []
   },
   "source": [
    "혼자 있으면 얼마나 잘 살아남는지 보기 위해서 countplot으로 찍어보았다.\n",
    "\n",
    "-> 혼자 있으면 더 생존률이 더 낮은 것이 보인다\n",
    "\n",
    "혼자가 아닐 때는 Dead : Alive가 1:1, 둘다 180명정도에 머물렀지만, 혼자일 때는 350명이 넘게 죽었고 살아남은 사람은 180명보다 아래로 집계되었다."
   ]
  },
  {
   "cell_type": "code",
   "execution_count": 18,
   "id": "04fbfefd",
   "metadata": {
    "execution": {
     "iopub.execute_input": "2021-07-17T06:02:09.220096Z",
     "iopub.status.busy": "2021-07-17T06:02:09.219376Z",
     "iopub.status.idle": "2021-07-17T06:02:10.259159Z",
     "shell.execute_reply": "2021-07-17T06:02:10.258146Z",
     "shell.execute_reply.started": "2021-07-17T05:58:33.151640Z"
    },
    "papermill": {
     "duration": 1.085221,
     "end_time": "2021-07-17T06:02:10.259323",
     "exception": false,
     "start_time": "2021-07-17T06:02:09.174102",
     "status": "completed"
    },
    "tags": []
   },
   "outputs": [
    {
     "data": {
      "text/html": [
       "        <script type=\"text/javascript\">\n",
       "        window.PlotlyConfig = {MathJaxConfig: 'local'};\n",
       "        if (window.MathJax) {MathJax.Hub.Config({SVG: {font: \"STIX-Web\"}});}\n",
       "        if (typeof require !== 'undefined') {\n",
       "        require.undef(\"plotly\");\n",
       "        requirejs.config({\n",
       "            paths: {\n",
       "                'plotly': ['https://cdn.plot.ly/plotly-2.2.0.min']\n",
       "            }\n",
       "        });\n",
       "        require(['plotly'], function(Plotly) {\n",
       "            window._Plotly = Plotly;\n",
       "        });\n",
       "        }\n",
       "        </script>\n",
       "        "
      ]
     },
     "metadata": {},
     "output_type": "display_data"
    },
    {
     "data": {
      "text/html": [
       "<div>                            <div id=\"0ffc5dc7-102a-49df-9fcc-d2b8fa835a2e\" class=\"plotly-graph-div\" style=\"height:700px; width:900px;\"></div>            <script type=\"text/javascript\">                require([\"plotly\"], function(Plotly) {                    window.PLOTLYENV=window.PLOTLYENV || {};                                    if (document.getElementById(\"0ffc5dc7-102a-49df-9fcc-d2b8fa835a2e\")) {                    Plotly.newPlot(                        \"0ffc5dc7-102a-49df-9fcc-d2b8fa835a2e\",                        [{\"colorscale\":[[0.0,\"rgb(255,255,255)\"],[0.125,\"rgb(240,240,240)\"],[0.25,\"rgb(217,217,217)\"],[0.375,\"rgb(189,189,189)\"],[0.5,\"rgb(150,150,150)\"],[0.625,\"rgb(115,115,115)\"],[0.75,\"rgb(82,82,82)\"],[0.875,\"rgb(37,37,37)\"],[1.0,\"rgb(0,0,0)\"]],\"reversescale\":false,\"type\":\"heatmap\",\"x\":[\"Survived\",\"Pclass\",\"SibSp\",\"Parch\",\"Embarked\",\"Family\",\"Sex\"],\"y\":[\"Survived\",\"Pclass\",\"SibSp\",\"Parch\",\"Embarked\",\"Family\",\"Sex\"],\"z\":[[1.0,-0.33848103596101514,-0.035322498885735576,0.08162940708348335,0.10681138570891952,0.016638989282745233,0.543351380657755],[-0.33848103596101514,1.0,0.08308136284568686,0.018442671310748508,0.045701846863136594,0.06599690843099823,-0.13190049060473932],[-0.035322498885735576,0.08308136284568686,1.0,0.41483769862015624,-0.0599614419411993,0.890711671869885,0.1146308103894224],[0.08162940708348335,0.018442671310748508,0.41483769862015624,1.0,-0.07866469555645676,0.7831107750000581,0.24548896009069893],[0.10681138570891952,0.045701846863136594,-0.0599614419411993,-0.07866469555645676,1.0,-0.08028116550424923,0.11656943282906818],[0.016638989282745233,0.06599690843099823,0.890711671869885,0.7831107750000581,-0.08028116550424923,1.0,0.20098844437108518],[0.543351380657755,-0.13190049060473932,0.1146308103894224,0.24548896009069893,0.11656943282906818,0.20098844437108518,1.0]]}],                        {\"height\":700,\"template\":{\"data\":{\"bar\":[{\"error_x\":{\"color\":\"#2a3f5f\"},\"error_y\":{\"color\":\"#2a3f5f\"},\"marker\":{\"line\":{\"color\":\"#E5ECF6\",\"width\":0.5},\"pattern\":{\"fillmode\":\"overlay\",\"size\":10,\"solidity\":0.2}},\"type\":\"bar\"}],\"barpolar\":[{\"marker\":{\"line\":{\"color\":\"#E5ECF6\",\"width\":0.5},\"pattern\":{\"fillmode\":\"overlay\",\"size\":10,\"solidity\":0.2}},\"type\":\"barpolar\"}],\"carpet\":[{\"aaxis\":{\"endlinecolor\":\"#2a3f5f\",\"gridcolor\":\"white\",\"linecolor\":\"white\",\"minorgridcolor\":\"white\",\"startlinecolor\":\"#2a3f5f\"},\"baxis\":{\"endlinecolor\":\"#2a3f5f\",\"gridcolor\":\"white\",\"linecolor\":\"white\",\"minorgridcolor\":\"white\",\"startlinecolor\":\"#2a3f5f\"},\"type\":\"carpet\"}],\"choropleth\":[{\"colorbar\":{\"outlinewidth\":0,\"ticks\":\"\"},\"type\":\"choropleth\"}],\"contour\":[{\"colorbar\":{\"outlinewidth\":0,\"ticks\":\"\"},\"colorscale\":[[0.0,\"#0d0887\"],[0.1111111111111111,\"#46039f\"],[0.2222222222222222,\"#7201a8\"],[0.3333333333333333,\"#9c179e\"],[0.4444444444444444,\"#bd3786\"],[0.5555555555555556,\"#d8576b\"],[0.6666666666666666,\"#ed7953\"],[0.7777777777777778,\"#fb9f3a\"],[0.8888888888888888,\"#fdca26\"],[1.0,\"#f0f921\"]],\"type\":\"contour\"}],\"contourcarpet\":[{\"colorbar\":{\"outlinewidth\":0,\"ticks\":\"\"},\"type\":\"contourcarpet\"}],\"heatmap\":[{\"colorbar\":{\"outlinewidth\":0,\"ticks\":\"\"},\"colorscale\":[[0.0,\"#0d0887\"],[0.1111111111111111,\"#46039f\"],[0.2222222222222222,\"#7201a8\"],[0.3333333333333333,\"#9c179e\"],[0.4444444444444444,\"#bd3786\"],[0.5555555555555556,\"#d8576b\"],[0.6666666666666666,\"#ed7953\"],[0.7777777777777778,\"#fb9f3a\"],[0.8888888888888888,\"#fdca26\"],[1.0,\"#f0f921\"]],\"type\":\"heatmap\"}],\"heatmapgl\":[{\"colorbar\":{\"outlinewidth\":0,\"ticks\":\"\"},\"colorscale\":[[0.0,\"#0d0887\"],[0.1111111111111111,\"#46039f\"],[0.2222222222222222,\"#7201a8\"],[0.3333333333333333,\"#9c179e\"],[0.4444444444444444,\"#bd3786\"],[0.5555555555555556,\"#d8576b\"],[0.6666666666666666,\"#ed7953\"],[0.7777777777777778,\"#fb9f3a\"],[0.8888888888888888,\"#fdca26\"],[1.0,\"#f0f921\"]],\"type\":\"heatmapgl\"}],\"histogram\":[{\"marker\":{\"pattern\":{\"fillmode\":\"overlay\",\"size\":10,\"solidity\":0.2}},\"type\":\"histogram\"}],\"histogram2d\":[{\"colorbar\":{\"outlinewidth\":0,\"ticks\":\"\"},\"colorscale\":[[0.0,\"#0d0887\"],[0.1111111111111111,\"#46039f\"],[0.2222222222222222,\"#7201a8\"],[0.3333333333333333,\"#9c179e\"],[0.4444444444444444,\"#bd3786\"],[0.5555555555555556,\"#d8576b\"],[0.6666666666666666,\"#ed7953\"],[0.7777777777777778,\"#fb9f3a\"],[0.8888888888888888,\"#fdca26\"],[1.0,\"#f0f921\"]],\"type\":\"histogram2d\"}],\"histogram2dcontour\":[{\"colorbar\":{\"outlinewidth\":0,\"ticks\":\"\"},\"colorscale\":[[0.0,\"#0d0887\"],[0.1111111111111111,\"#46039f\"],[0.2222222222222222,\"#7201a8\"],[0.3333333333333333,\"#9c179e\"],[0.4444444444444444,\"#bd3786\"],[0.5555555555555556,\"#d8576b\"],[0.6666666666666666,\"#ed7953\"],[0.7777777777777778,\"#fb9f3a\"],[0.8888888888888888,\"#fdca26\"],[1.0,\"#f0f921\"]],\"type\":\"histogram2dcontour\"}],\"mesh3d\":[{\"colorbar\":{\"outlinewidth\":0,\"ticks\":\"\"},\"type\":\"mesh3d\"}],\"parcoords\":[{\"line\":{\"colorbar\":{\"outlinewidth\":0,\"ticks\":\"\"}},\"type\":\"parcoords\"}],\"pie\":[{\"automargin\":true,\"type\":\"pie\"}],\"scatter\":[{\"marker\":{\"colorbar\":{\"outlinewidth\":0,\"ticks\":\"\"}},\"type\":\"scatter\"}],\"scatter3d\":[{\"line\":{\"colorbar\":{\"outlinewidth\":0,\"ticks\":\"\"}},\"marker\":{\"colorbar\":{\"outlinewidth\":0,\"ticks\":\"\"}},\"type\":\"scatter3d\"}],\"scattercarpet\":[{\"marker\":{\"colorbar\":{\"outlinewidth\":0,\"ticks\":\"\"}},\"type\":\"scattercarpet\"}],\"scattergeo\":[{\"marker\":{\"colorbar\":{\"outlinewidth\":0,\"ticks\":\"\"}},\"type\":\"scattergeo\"}],\"scattergl\":[{\"marker\":{\"colorbar\":{\"outlinewidth\":0,\"ticks\":\"\"}},\"type\":\"scattergl\"}],\"scattermapbox\":[{\"marker\":{\"colorbar\":{\"outlinewidth\":0,\"ticks\":\"\"}},\"type\":\"scattermapbox\"}],\"scatterpolar\":[{\"marker\":{\"colorbar\":{\"outlinewidth\":0,\"ticks\":\"\"}},\"type\":\"scatterpolar\"}],\"scatterpolargl\":[{\"marker\":{\"colorbar\":{\"outlinewidth\":0,\"ticks\":\"\"}},\"type\":\"scatterpolargl\"}],\"scatterternary\":[{\"marker\":{\"colorbar\":{\"outlinewidth\":0,\"ticks\":\"\"}},\"type\":\"scatterternary\"}],\"surface\":[{\"colorbar\":{\"outlinewidth\":0,\"ticks\":\"\"},\"colorscale\":[[0.0,\"#0d0887\"],[0.1111111111111111,\"#46039f\"],[0.2222222222222222,\"#7201a8\"],[0.3333333333333333,\"#9c179e\"],[0.4444444444444444,\"#bd3786\"],[0.5555555555555556,\"#d8576b\"],[0.6666666666666666,\"#ed7953\"],[0.7777777777777778,\"#fb9f3a\"],[0.8888888888888888,\"#fdca26\"],[1.0,\"#f0f921\"]],\"type\":\"surface\"}],\"table\":[{\"cells\":{\"fill\":{\"color\":\"#EBF0F8\"},\"line\":{\"color\":\"white\"}},\"header\":{\"fill\":{\"color\":\"#C8D4E3\"},\"line\":{\"color\":\"white\"}},\"type\":\"table\"}]},\"layout\":{\"annotationdefaults\":{\"arrowcolor\":\"#2a3f5f\",\"arrowhead\":0,\"arrowwidth\":1},\"autotypenumbers\":\"strict\",\"coloraxis\":{\"colorbar\":{\"outlinewidth\":0,\"ticks\":\"\"}},\"colorscale\":{\"diverging\":[[0,\"#8e0152\"],[0.1,\"#c51b7d\"],[0.2,\"#de77ae\"],[0.3,\"#f1b6da\"],[0.4,\"#fde0ef\"],[0.5,\"#f7f7f7\"],[0.6,\"#e6f5d0\"],[0.7,\"#b8e186\"],[0.8,\"#7fbc41\"],[0.9,\"#4d9221\"],[1,\"#276419\"]],\"sequential\":[[0.0,\"#0d0887\"],[0.1111111111111111,\"#46039f\"],[0.2222222222222222,\"#7201a8\"],[0.3333333333333333,\"#9c179e\"],[0.4444444444444444,\"#bd3786\"],[0.5555555555555556,\"#d8576b\"],[0.6666666666666666,\"#ed7953\"],[0.7777777777777778,\"#fb9f3a\"],[0.8888888888888888,\"#fdca26\"],[1.0,\"#f0f921\"]],\"sequentialminus\":[[0.0,\"#0d0887\"],[0.1111111111111111,\"#46039f\"],[0.2222222222222222,\"#7201a8\"],[0.3333333333333333,\"#9c179e\"],[0.4444444444444444,\"#bd3786\"],[0.5555555555555556,\"#d8576b\"],[0.6666666666666666,\"#ed7953\"],[0.7777777777777778,\"#fb9f3a\"],[0.8888888888888888,\"#fdca26\"],[1.0,\"#f0f921\"]]},\"colorway\":[\"#636efa\",\"#EF553B\",\"#00cc96\",\"#ab63fa\",\"#FFA15A\",\"#19d3f3\",\"#FF6692\",\"#B6E880\",\"#FF97FF\",\"#FECB52\"],\"font\":{\"color\":\"#2a3f5f\"},\"geo\":{\"bgcolor\":\"white\",\"lakecolor\":\"white\",\"landcolor\":\"#E5ECF6\",\"showlakes\":true,\"showland\":true,\"subunitcolor\":\"white\"},\"hoverlabel\":{\"align\":\"left\"},\"hovermode\":\"closest\",\"mapbox\":{\"style\":\"light\"},\"paper_bgcolor\":\"white\",\"plot_bgcolor\":\"#E5ECF6\",\"polar\":{\"angularaxis\":{\"gridcolor\":\"white\",\"linecolor\":\"white\",\"ticks\":\"\"},\"bgcolor\":\"#E5ECF6\",\"radialaxis\":{\"gridcolor\":\"white\",\"linecolor\":\"white\",\"ticks\":\"\"}},\"scene\":{\"xaxis\":{\"backgroundcolor\":\"#E5ECF6\",\"gridcolor\":\"white\",\"gridwidth\":2,\"linecolor\":\"white\",\"showbackground\":true,\"ticks\":\"\",\"zerolinecolor\":\"white\"},\"yaxis\":{\"backgroundcolor\":\"#E5ECF6\",\"gridcolor\":\"white\",\"gridwidth\":2,\"linecolor\":\"white\",\"showbackground\":true,\"ticks\":\"\",\"zerolinecolor\":\"white\"},\"zaxis\":{\"backgroundcolor\":\"#E5ECF6\",\"gridcolor\":\"white\",\"gridwidth\":2,\"linecolor\":\"white\",\"showbackground\":true,\"ticks\":\"\",\"zerolinecolor\":\"white\"}},\"shapedefaults\":{\"line\":{\"color\":\"#2a3f5f\"}},\"ternary\":{\"aaxis\":{\"gridcolor\":\"white\",\"linecolor\":\"white\",\"ticks\":\"\"},\"baxis\":{\"gridcolor\":\"white\",\"linecolor\":\"white\",\"ticks\":\"\"},\"bgcolor\":\"#E5ECF6\",\"caxis\":{\"gridcolor\":\"white\",\"linecolor\":\"white\",\"ticks\":\"\"}},\"title\":{\"x\":0.05},\"xaxis\":{\"automargin\":true,\"gridcolor\":\"white\",\"linecolor\":\"white\",\"ticks\":\"\",\"title\":{\"standoff\":15},\"zerolinecolor\":\"white\",\"zerolinewidth\":2},\"yaxis\":{\"automargin\":true,\"gridcolor\":\"white\",\"linecolor\":\"white\",\"ticks\":\"\",\"title\":{\"standoff\":15},\"zerolinecolor\":\"white\",\"zerolinewidth\":2}}},\"title\":{\"text\":\"Pearson Correlation of Integer-type features\"},\"width\":900,\"xaxis\":{\"nticks\":36,\"ticks\":\"\"},\"yaxis\":{\"ticks\":\"\"}},                        {\"responsive\": true}                    ).then(function(){\n",
       "                            \n",
       "var gd = document.getElementById('0ffc5dc7-102a-49df-9fcc-d2b8fa835a2e');\n",
       "var x = new MutationObserver(function (mutations, observer) {{\n",
       "        var display = window.getComputedStyle(gd).display;\n",
       "        if (!display || display === 'none') {{\n",
       "            console.log([gd, 'removed!']);\n",
       "            Plotly.purge(gd);\n",
       "            observer.disconnect();\n",
       "        }}\n",
       "}});\n",
       "\n",
       "// Listen for the removal of the full notebook cells\n",
       "var notebookContainer = gd.closest('#notebook-container');\n",
       "if (notebookContainer) {{\n",
       "    x.observe(notebookContainer, {childList: true});\n",
       "}}\n",
       "\n",
       "// Listen for the clearing of the current output cell\n",
       "var outputEl = gd.closest('.output');\n",
       "if (outputEl) {{\n",
       "    x.observe(outputEl, {childList: true});\n",
       "}}\n",
       "\n",
       "                        })                };                });            </script>        </div>"
      ]
     },
     "metadata": {},
     "output_type": "display_data"
    }
   ],
   "source": [
    "# 4.2 integer type correlation\n",
    "# 4.2 정수형 타입 상관관계\n",
    "train_int['Embarked'] = train['Embarked']\n",
    "train_int['Family'] = train['Family']\n",
    "train_int['Sex'] = train['Sex']\n",
    "data = [\n",
    "    go.Heatmap(\n",
    "        z=train_int.corr().values,\n",
    "        x=train_int.columns.values,\n",
    "        y=train_int.columns.values,\n",
    "        colorscale='Greys',\n",
    "        reversescale = False)\n",
    "]\n",
    "\n",
    "layout = go.Layout(\n",
    "    title='Pearson Correlation of Integer-type features',\n",
    "    xaxis = dict(ticks='', nticks=36),\n",
    "    yaxis = dict(ticks='' ),\n",
    "    width = 900, height = 700)\n",
    "\n",
    "fig = go.Figure(data=data, layout=layout)\n",
    "py.iplot(fig, filename='labelled-heatmap')"
   ]
  },
  {
   "cell_type": "markdown",
   "id": "1b1159f6",
   "metadata": {
    "papermill": {
     "duration": 0.037707,
     "end_time": "2021-07-17T06:02:10.335641",
     "exception": false,
     "start_time": "2021-07-17T06:02:10.297934",
     "status": "completed"
    },
    "tags": []
   },
   "source": [
    "Parch와 SibSp에서 corr()값이 0.4정도의 강한 양의 상관 관계를 지니고 있다.\n",
    "\n",
    "- 보통 형제가 있으면 부모가 있고\n",
    "- 부모가 있으면 형제가 같이 있는 느낌이다\n",
    "\n",
    "  == 가족이랑 같이 왔다는 것\n",
    "  \n",
    "Survived와 Pclass는 corr()값이 -0.3정도의 강한 음의 상관 관계를 지니고 있다.\n",
    "\n",
    "- Pclass 값이 감소하면 (등급이 올라가면) Survived 값이 증가한다 (살아난다)\n",
    "\n",
    "Survived와 Sex는 corr()값이 0.5정도의 강한 양의 상관 관계를 지니고 있다.\n",
    "\n",
    "- Sex 값이 증가하면 (여자면) Survied 값이 증가한다 (살아난다) "
   ]
  },
  {
   "cell_type": "code",
   "execution_count": 19,
   "id": "b67262f0",
   "metadata": {
    "execution": {
     "iopub.execute_input": "2021-07-17T06:02:10.418662Z",
     "iopub.status.busy": "2021-07-17T06:02:10.418011Z",
     "iopub.status.idle": "2021-07-17T06:02:10.421005Z",
     "shell.execute_reply": "2021-07-17T06:02:10.420538Z",
     "shell.execute_reply.started": "2021-07-17T05:58:33.185215Z"
    },
    "papermill": {
     "duration": 0.04769,
     "end_time": "2021-07-17T06:02:10.421147",
     "exception": false,
     "start_time": "2021-07-17T06:02:10.373457",
     "status": "completed"
    },
    "tags": []
   },
   "outputs": [],
   "source": [
    "train_O.drop('Embarked', axis=1, inplace=True)\n",
    "train_O.drop('Sex', axis=1, inplace=True)"
   ]
  },
  {
   "cell_type": "code",
   "execution_count": 20,
   "id": "89860bbe",
   "metadata": {
    "execution": {
     "iopub.execute_input": "2021-07-17T06:02:10.509264Z",
     "iopub.status.busy": "2021-07-17T06:02:10.508563Z",
     "iopub.status.idle": "2021-07-17T06:02:10.512261Z",
     "shell.execute_reply": "2021-07-17T06:02:10.513031Z",
     "shell.execute_reply.started": "2021-07-17T05:58:33.193826Z"
    },
    "papermill": {
     "duration": 0.0542,
     "end_time": "2021-07-17T06:02:10.513267",
     "exception": false,
     "start_time": "2021-07-17T06:02:10.459067",
     "status": "completed"
    },
    "tags": []
   },
   "outputs": [
    {
     "name": "stdout",
     "output_type": "stream",
     "text": [
      "<class 'pandas.core.frame.DataFrame'>\n",
      "Int64Index: 891 entries, 1 to 891\n",
      "Data columns (total 3 columns):\n",
      " #   Column  Non-Null Count  Dtype \n",
      "---  ------  --------------  ----- \n",
      " 0   Name    891 non-null    object\n",
      " 1   Ticket  891 non-null    object\n",
      " 2   Cabin   204 non-null    object\n",
      "dtypes: object(3)\n",
      "memory usage: 60.1+ KB\n"
     ]
    }
   ],
   "source": [
    "train_O.info()"
   ]
  },
  {
   "cell_type": "markdown",
   "id": "01c6903d",
   "metadata": {
    "papermill": {
     "duration": 0.037659,
     "end_time": "2021-07-17T06:02:10.589916",
     "exception": false,
     "start_time": "2021-07-17T06:02:10.552257",
     "status": "completed"
    },
    "tags": []
   },
   "source": [
    "Sex, Embarked를 빼준 train_O에는 Ticket, Name, Cabin Columns만 남았다.\n",
    "\n",
    "이 중 대략 70프로가 결측값으로 이루어진 Cabin Column은 지우고 예측을 하는 것이 맞다고 판단 -> drop시켜주자"
   ]
  },
  {
   "cell_type": "code",
   "execution_count": 21,
   "id": "ee499634",
   "metadata": {
    "execution": {
     "iopub.execute_input": "2021-07-17T06:02:10.672813Z",
     "iopub.status.busy": "2021-07-17T06:02:10.670413Z",
     "iopub.status.idle": "2021-07-17T06:02:10.676048Z",
     "shell.execute_reply": "2021-07-17T06:02:10.675439Z",
     "shell.execute_reply.started": "2021-07-17T05:58:33.219201Z"
    },
    "papermill": {
     "duration": 0.04845,
     "end_time": "2021-07-17T06:02:10.676180",
     "exception": false,
     "start_time": "2021-07-17T06:02:10.627730",
     "status": "completed"
    },
    "tags": []
   },
   "outputs": [],
   "source": [
    "train.drop('Cabin', axis=1, inplace=True)\n",
    "train_O.drop('Cabin', axis=1, inplace=True)"
   ]
  },
  {
   "cell_type": "code",
   "execution_count": 22,
   "id": "2dd0240a",
   "metadata": {
    "execution": {
     "iopub.execute_input": "2021-07-17T06:02:10.759901Z",
     "iopub.status.busy": "2021-07-17T06:02:10.756605Z",
     "iopub.status.idle": "2021-07-17T06:02:10.763837Z",
     "shell.execute_reply": "2021-07-17T06:02:10.764244Z",
     "shell.execute_reply.started": "2021-07-17T05:58:33.237664Z"
    },
    "papermill": {
     "duration": 0.050468,
     "end_time": "2021-07-17T06:02:10.764439",
     "exception": false,
     "start_time": "2021-07-17T06:02:10.713971",
     "status": "completed"
    },
    "tags": []
   },
   "outputs": [
    {
     "data": {
      "text/plain": [
       "Thorne, Mrs. Gertrude Maybelle    1\n",
       "Peters, Miss. Katie               1\n",
       "O'Leary, Miss. Hanora \"Norah\"     1\n",
       "Lindqvist, Mr. Eino William       1\n",
       "Simmons, Mr. John                 1\n",
       "                                 ..\n",
       "Flynn, Mr. John                   1\n",
       "Skoog, Miss. Margit Elizabeth     1\n",
       "Risien, Mr. Samuel Beard          1\n",
       "Goldschmidt, Mr. George B         1\n",
       "Stankovic, Mr. Ivan               1\n",
       "Name: Name, Length: 891, dtype: int64"
      ]
     },
     "execution_count": 22,
     "metadata": {},
     "output_type": "execute_result"
    }
   ],
   "source": [
    "# 4.3 O type Inspection and PreProcessing\n",
    "# 4.3 O 타입 고찰과 전처리 과정\n",
    "train['Name'].value_counts()"
   ]
  },
  {
   "cell_type": "markdown",
   "id": "ff1a3d71",
   "metadata": {
    "papermill": {
     "duration": 0.037877,
     "end_time": "2021-07-17T06:02:10.840938",
     "exception": false,
     "start_time": "2021-07-17T06:02:10.803061",
     "status": "completed"
    },
    "tags": []
   },
   "source": [
    "Name의 value_counts()값을 확인 해보니 호칭이 눈에 띄는 것을 볼 수 있었다.\n",
    "\n",
    "**, 다음부터 .이 나오기 전까지의 문자열**을 Parsing하면 호칭을 따로 얻을 수 있을 거라 판단\n",
    "\n"
   ]
  },
  {
   "cell_type": "code",
   "execution_count": 23,
   "id": "56b6b42d",
   "metadata": {
    "execution": {
     "iopub.execute_input": "2021-07-17T06:02:10.928338Z",
     "iopub.status.busy": "2021-07-17T06:02:10.927697Z",
     "iopub.status.idle": "2021-07-17T06:02:10.930470Z",
     "shell.execute_reply": "2021-07-17T06:02:10.930956Z",
     "shell.execute_reply.started": "2021-07-17T05:58:33.254285Z"
    },
    "papermill": {
     "duration": 0.051699,
     "end_time": "2021-07-17T06:02:10.931151",
     "exception": false,
     "start_time": "2021-07-17T06:02:10.879452",
     "status": "completed"
    },
    "tags": []
   },
   "outputs": [],
   "source": [
    "train['Title'] = train['Name'].str.extract('([,A-Za-z]+)\\.', expand=False)\n",
    "test['Title'] = test['Name'].str.extract('([,A-Za-z]+)\\.', expand=False)"
   ]
  },
  {
   "cell_type": "markdown",
   "id": "593b13c8",
   "metadata": {
    "papermill": {
     "duration": 0.038621,
     "end_time": "2021-07-17T06:02:11.008335",
     "exception": false,
     "start_time": "2021-07-17T06:02:10.969714",
     "status": "completed"
    },
    "tags": []
   },
   "source": [
    "위에 생각한 규칙대로 정규표현식을 사용해서 parsing을 진행하였다.\n",
    "\n",
    "Parsing된 string 값들은 'Title'이라는 새로운 column을 만들어 저장하였다."
   ]
  },
  {
   "cell_type": "code",
   "execution_count": 24,
   "id": "1ef2544b",
   "metadata": {
    "execution": {
     "iopub.execute_input": "2021-07-17T06:02:11.093353Z",
     "iopub.status.busy": "2021-07-17T06:02:11.092729Z",
     "iopub.status.idle": "2021-07-17T06:02:11.096297Z",
     "shell.execute_reply": "2021-07-17T06:02:11.095781Z",
     "shell.execute_reply.started": "2021-07-17T05:58:33.267251Z"
    },
    "papermill": {
     "duration": 0.049446,
     "end_time": "2021-07-17T06:02:11.096434",
     "exception": false,
     "start_time": "2021-07-17T06:02:11.046988",
     "status": "completed"
    },
    "tags": []
   },
   "outputs": [
    {
     "data": {
      "text/plain": [
       "Mr          517\n",
       "Miss        182\n",
       "Mrs         125\n",
       "Master       40\n",
       "Dr            7\n",
       "Rev           6\n",
       "Major         2\n",
       "Mlle          2\n",
       "Col           2\n",
       "Countess      1\n",
       "Don           1\n",
       "Ms            1\n",
       "Lady          1\n",
       "Jonkheer      1\n",
       "Mme           1\n",
       "Sir           1\n",
       "Capt          1\n",
       "Name: Title, dtype: int64"
      ]
     },
     "execution_count": 24,
     "metadata": {},
     "output_type": "execute_result"
    }
   ],
   "source": [
    "train['Title'].value_counts()"
   ]
  },
  {
   "cell_type": "markdown",
   "id": "63f656e2",
   "metadata": {
    "papermill": {
     "duration": 0.038295,
     "end_time": "2021-07-17T06:02:11.175430",
     "exception": false,
     "start_time": "2021-07-17T06:02:11.137135",
     "status": "completed"
    },
    "tags": []
   },
   "source": [
    "호칭 정리 \n",
    "\n",
    "- Master   : Mr와 같은 뜻이지만 존경을 담아서\n",
    "- Dr       : 박사님, 의사님\n",
    "- Rev      : 목사님\n",
    "- Mlle     : 마드모아젤 (미혼 여성)\n",
    "- Major    : 군대 장교 계급\n",
    "- Col      : 대령\n",
    "- Sir      : 남자 (존칭)\n",
    "- Lady     : 미혼여성\n",
    "- Ms       : 미혼 or 기혼 여성(모름)\n",
    "- Jonkheer : 귀족 직함(낮음)\n",
    "- Countess : 백작\n",
    "- Capt     : 선장, 지휘관\n",
    "- Mme      : 마담 (여성 존칭)\n",
    "- Don      : 남성 두목(Mr와 같은 의미)\n",
    "\n",
    "Mlle, Lady -> Miss (완벽한 미혼여성)\n",
    "\n",
    "Ms, Mme - > Mrs (감추려고 한다는 뜻 == 결혼함)\n",
    "\n",
    "Major, Col, Sir, Jonkheer, Countess, Capt, Don -> Mr (일반적인 남성)\n",
    "\n",
    "바꿔주면 될거라고 생각함"
   ]
  },
  {
   "cell_type": "code",
   "execution_count": 25,
   "id": "8d8b90dc",
   "metadata": {
    "execution": {
     "iopub.execute_input": "2021-07-17T06:02:11.265406Z",
     "iopub.status.busy": "2021-07-17T06:02:11.261794Z",
     "iopub.status.idle": "2021-07-17T06:02:11.267436Z",
     "shell.execute_reply": "2021-07-17T06:02:11.267877Z",
     "shell.execute_reply.started": "2021-07-17T05:58:33.284610Z"
    },
    "papermill": {
     "duration": 0.053579,
     "end_time": "2021-07-17T06:02:11.268050",
     "exception": false,
     "start_time": "2021-07-17T06:02:11.214471",
     "status": "completed"
    },
    "tags": []
   },
   "outputs": [],
   "source": [
    "train['Title'].replace(['Mlle', 'Lady'], ['Miss', 'Miss'], inplace=True)\n",
    "train['Title'].replace(['Ms', 'Mme'], ['Mrs', 'Mrs'], inplace=True)\n",
    "train['Title'].replace(['Major', 'Col', 'Sir', 'Jonkheer', 'Countess', 'Capt', 'Don'], ['Mr', 'Mr', 'Mr', 'Mr', 'Mr', 'Mr', 'Mr'], inplace=True)\n",
    "\n",
    "test['Title'].replace(['Mlle', 'Lady'], ['Miss', 'Miss'], inplace=True)\n",
    "test['Title'].replace(['Ms', 'Mme'], ['Mrs', 'Mrs'], inplace=True)\n",
    "test['Title'].replace(['Major', 'Col', 'Sir', 'Jonkheer', 'Countess', 'Capt', 'Don'], ['Mr', 'Mr', 'Mr', 'Mr', 'Mr', 'Mr', 'Mr'], inplace=True)"
   ]
  },
  {
   "cell_type": "code",
   "execution_count": 26,
   "id": "68a20e6a",
   "metadata": {
    "execution": {
     "iopub.execute_input": "2021-07-17T06:02:11.349377Z",
     "iopub.status.busy": "2021-07-17T06:02:11.348756Z",
     "iopub.status.idle": "2021-07-17T06:02:11.355364Z",
     "shell.execute_reply": "2021-07-17T06:02:11.355861Z",
     "shell.execute_reply.started": "2021-07-17T05:58:33.305700Z"
    },
    "papermill": {
     "duration": 0.049063,
     "end_time": "2021-07-17T06:02:11.356028",
     "exception": false,
     "start_time": "2021-07-17T06:02:11.306965",
     "status": "completed"
    },
    "tags": []
   },
   "outputs": [
    {
     "data": {
      "text/plain": [
       "Mr        526\n",
       "Miss      185\n",
       "Mrs       127\n",
       "Master     40\n",
       "Dr          7\n",
       "Rev         6\n",
       "Name: Title, dtype: int64"
      ]
     },
     "execution_count": 26,
     "metadata": {},
     "output_type": "execute_result"
    }
   ],
   "source": [
    "train['Title'].value_counts()"
   ]
  },
  {
   "cell_type": "code",
   "execution_count": 27,
   "id": "2e124333",
   "metadata": {
    "execution": {
     "iopub.execute_input": "2021-07-17T06:02:11.437817Z",
     "iopub.status.busy": "2021-07-17T06:02:11.437138Z",
     "iopub.status.idle": "2021-07-17T06:02:11.795221Z",
     "shell.execute_reply": "2021-07-17T06:02:11.795670Z",
     "shell.execute_reply.started": "2021-07-17T05:58:33.324511Z"
    },
    "papermill": {
     "duration": 0.400721,
     "end_time": "2021-07-17T06:02:11.795851",
     "exception": false,
     "start_time": "2021-07-17T06:02:11.395130",
     "status": "completed"
    },
    "tags": []
   },
   "outputs": [
    {
     "data": {
      "text/plain": [
       "Text(0.5, 1.0, 'Title CountPlot according to Survived')"
      ]
     },
     "execution_count": 27,
     "metadata": {},
     "output_type": "execute_result"
    },
    {
     "data": {
      "image/png": "[encoded data removed]",
      "text/plain": [
       "<Figure size 1440x720 with 2 Axes>"
      ]
     },
     "metadata": {
      "needs_background": "light"
     },
     "output_type": "display_data"
    }
   ],
   "source": [
    "f, ax = plt.subplots(1, 2, figsize=(20, 10))\n",
    "sns.countplot(x = 'Title', data = train, ax=ax[0])\n",
    "ax[0].set_title('Count group by Title')\n",
    "sns.countplot(x = 'Survived', hue='Title', data = train, ax = ax[1])\n",
    "ax[1].set_title('Title CountPlot according to Survived')"
   ]
  },
  {
   "cell_type": "markdown",
   "id": "9f2e1b3a",
   "metadata": {
    "papermill": {
     "duration": 0.04034,
     "end_time": "2021-07-17T06:02:11.877024",
     "exception": false,
     "start_time": "2021-07-17T06:02:11.836684",
     "status": "completed"
    },
    "tags": []
   },
   "source": [
    "Mr의 호칭을 지닌 사람들이 엄청나게 많이 죽었다.\n",
    "\n",
    "그에 반면 Mrs, Miss의 호칭을 지닌 사람들은 많이 살았다.\n",
    "\n",
    "Rev(목사님)들은 다 죽으셨고... ㅠ\n",
    "\n",
    "하여튼 개수가 거의 없던 호칭들을 통합하여 plot을 그려보았더니 나쁘지 않은 그래프가 나타났다.\n",
    "\n",
    "물론 Rev, Dr의 수가 적은게 불안하지만 그래도 Rev들이 다 죽은 결과 또한 반영할 수 있을 거라고 생각하였다.\n",
    "\n",
    "이 또한 categorical 범주이니 추후 1 2 3 4 5 6 으로 cat 시키도록 하겠다."
   ]
  },
  {
   "cell_type": "code",
   "execution_count": 28,
   "id": "e8981fd0",
   "metadata": {
    "execution": {
     "iopub.execute_input": "2021-07-17T06:02:11.961913Z",
     "iopub.status.busy": "2021-07-17T06:02:11.961247Z",
     "iopub.status.idle": "2021-07-17T06:02:11.969079Z",
     "shell.execute_reply": "2021-07-17T06:02:11.969494Z",
     "shell.execute_reply.started": "2021-07-17T05:58:33.686680Z"
    },
    "papermill": {
     "duration": 0.052019,
     "end_time": "2021-07-17T06:02:11.969710",
     "exception": false,
     "start_time": "2021-07-17T06:02:11.917691",
     "status": "completed"
    },
    "tags": []
   },
   "outputs": [
    {
     "data": {
      "text/plain": [
       "CA. 2343    7\n",
       "347082      7\n",
       "1601        7\n",
       "3101295     6\n",
       "347088      6\n",
       "           ..\n",
       "382649      1\n",
       "234604      1\n",
       "315089      1\n",
       "347071      1\n",
       "237798      1\n",
       "Name: Ticket, Length: 681, dtype: int64"
      ]
     },
     "execution_count": 28,
     "metadata": {},
     "output_type": "execute_result"
    }
   ],
   "source": [
    "# 4.3.1 'Ticket' column Insepction, PreProcessing\n",
    "# 4.3.1 '티켓'열 고찰, 전처리\n",
    "train['Ticket'].value_counts()"
   ]
  },
  {
   "cell_type": "markdown",
   "id": "be23e575",
   "metadata": {
    "papermill": {
     "duration": 0.041454,
     "end_time": "2021-07-17T06:02:12.051786",
     "exception": false,
     "start_time": "2021-07-17T06:02:12.010332",
     "status": "completed"
    },
    "tags": []
   },
   "source": [
    "티켓들의 Value가 전부 다 unique한 것이 아닌 같은 Value를 가지는 Ticket들이 존재 == 같은 Parch or 같은 SibSp or 같은 Embarked .. \n",
    "\n",
    "무언가 접점이 있을 것이라고 생각하지만 나의 pandas 지식이 일천해서 구현을 하지 못하는 것이 너무나 안타깝다...\n",
    "\n",
    "같은 ticket 값을 가지는 행들 끼리 묶어서 모든 Column에 대해서 비교해 보고 싶다...\n",
    "\n",
    "하지만 아직 못했으니 일단 버리기로 생각했다."
   ]
  },
  {
   "cell_type": "code",
   "execution_count": 29,
   "id": "9266290a",
   "metadata": {
    "execution": {
     "iopub.execute_input": "2021-07-17T06:02:12.136920Z",
     "iopub.status.busy": "2021-07-17T06:02:12.136251Z",
     "iopub.status.idle": "2021-07-17T06:02:12.143085Z",
     "shell.execute_reply": "2021-07-17T06:02:12.143545Z",
     "shell.execute_reply.started": "2021-07-17T05:58:33.696767Z"
    },
    "papermill": {
     "duration": 0.051322,
     "end_time": "2021-07-17T06:02:12.143726",
     "exception": false,
     "start_time": "2021-07-17T06:02:12.092404",
     "status": "completed"
    },
    "tags": []
   },
   "outputs": [],
   "source": [
    "train.drop('Ticket', axis=1, inplace=True)\n",
    "test.drop('Ticket', axis=1, inplace=True)"
   ]
  },
  {
   "cell_type": "code",
   "execution_count": 30,
   "id": "c8aa8d38",
   "metadata": {
    "execution": {
     "iopub.execute_input": "2021-07-17T06:02:12.228796Z",
     "iopub.status.busy": "2021-07-17T06:02:12.228151Z",
     "iopub.status.idle": "2021-07-17T06:02:12.243249Z",
     "shell.execute_reply": "2021-07-17T06:02:12.242699Z",
     "shell.execute_reply.started": "2021-07-17T05:58:33.711743Z"
    },
    "papermill": {
     "duration": 0.058882,
     "end_time": "2021-07-17T06:02:12.243381",
     "exception": false,
     "start_time": "2021-07-17T06:02:12.184499",
     "status": "completed"
    },
    "tags": []
   },
   "outputs": [],
   "source": [
    "# Conclusion\n",
    "# To be Continued...\n",
    "train.to_csv('train1.csv')\n",
    "test.to_csv('test1.csv')"
   ]
  },
  {
   "cell_type": "markdown",
   "id": "036ea796",
   "metadata": {
    "papermill": {
     "duration": 0.041306,
     "end_time": "2021-07-17T06:02:12.325793",
     "exception": false,
     "start_time": "2021-07-17T06:02:12.284487",
     "status": "completed"
    },
    "tags": []
   },
   "source": [
    "우선 Column들에 대한 분석은 끝냈다.\n",
    "\n",
    "다음으로 진행할 것은 지금 했던 과정들을 Test.csv에 대해서 똑같이 적용해야 하고\n",
    "\n",
    "무려 200개의 결측값을 가지고 있는 'Age' Column에 대해서 결측값 예측을 진행해야한다.\n",
    "\n",
    "아마 Age Column에 대해 예측할 때는 Machine Learning을 사용하여 예측을 진행해볼까 한다. ex) Linear Regression, SVC, ...등등\n",
    "\n",
    "Age Column에 대해서 결측값 예측이 끝난 후에는 우리의 목표 Target Column에 대해서 예측을 진행 할 예정입니다.\n",
    "\n",
    "앞으로 열심히 해보겠습니다!!"
   ]
  }
 ],
 "metadata": {
  "kernelspec": {
   "display_name": "Python 3",
   "language": "python",
   "name": "python3"
  },
  "language_info": {
   "codemirror_mode": {
    "name": "ipython",
    "version": 3
   },
   "file_extension": ".py",
   "mimetype": "text/x-python",
   "name": "python",
   "nbconvert_exporter": "python",
   "pygments_lexer": "ipython3",
   "version": "3.7.10"
  },
  "papermill": {
   "default_parameters": {},
   "duration": 17.880468,
   "end_time": "2021-07-17T06:02:14.114174",
   "environment_variables": {},
   "exception": null,
   "input_path": "__notebook__.ipynb",
   "output_path": "__notebook__.ipynb",
   "parameters": {},
   "start_time": "2021-07-17T06:01:56.233706",
   "version": "2.3.3"
  }
 },
 "nbformat": 4,
 "nbformat_minor": 5
}
